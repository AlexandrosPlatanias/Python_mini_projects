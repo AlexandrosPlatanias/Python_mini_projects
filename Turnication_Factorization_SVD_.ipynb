{
 "cells": [
  {
   "cell_type": "code",
   "execution_count": 3,
   "id": "406fa2a0",
   "metadata": {},
   "outputs": [
    {
     "name": "stdout",
     "output_type": "stream",
     "text": [
      "Original Matrix X: [[ 0  2  0  0  0  0  0  3  0  0  9  0]\n",
      " [ 0  0  0  0  0  8  0  0 28  0  0  0]\n",
      " [16  0  0 26  0 19  0  0  0  0  0  0]\n",
      " [12  0  0  3  0  0 30  4  0  0  0  0]\n",
      " [ 0 10  0  0  0  0  0  0  0 26  0 13]\n",
      " [ 0  0  6  0  0  0  0 27  0  0  0  0]\n",
      " [10 22  0  0 29  0  0  0  0  0  0  0]\n",
      " [ 0  0  0  0  0 26  2  0  0 26  7  0]\n",
      " [ 0  0  0  0  0  0  0  0  0  0 17  0]\n",
      " [ 0  0  0  0  7  0  0  0  0  0  0 20]\n",
      " [ 0  0  0  0  0  0  0  0  0  0  0  0]\n",
      " [ 0  0  0  0  0  0  0  0  0  0  0  7]]\n",
      "Truncated Matrix E: [[-0.23341368  0.06856088  0.08621802]\n",
      " [-1.05868589 -0.75575032 -0.64748893]\n",
      " [-3.26148702 -0.08875361 -3.71156375]\n",
      " [-1.18719156  1.24363827 -3.08651451]\n",
      " [-2.89681017 -0.05718958  3.07481493]\n",
      " [-0.09985086  0.19357972 -0.55045605]\n",
      " [-1.7710881   5.48547711  0.84475671]\n",
      " [-4.69366334 -2.25880465  1.12504585]\n",
      " [-0.30483701 -0.21552136  0.13759302]\n",
      " [-0.63441285  1.07149494  1.11964273]\n",
      " [ 0.          0.          0.        ]\n",
      " [-0.16096775  0.1006621   0.33353309]]\n"
     ]
    }
   ],
   "source": [
    "# Create a matrix X of size m × m where approximately 80% of the values are\n",
    "# zeros and the rest are random integers between 1 and 30\n",
    "# Then factorize this matrix using ‘Singular Value Decomposition‘ \n",
    "# Then truncate the first k dimensions of the left singular matrix and multiply\n",
    "# with the corresponding truncation of the diagonal matrix. E = U:,:k Σ a :k where a=0.5\n",
    "\n",
    "\n",
    "import numpy as np\n",
    "\n",
    "class MatrixOper:\n",
    "    def __init__(self, size):\n",
    "        self.size = size  # square matrix size m x m\n",
    "\n",
    "    def generate_matrix(self):\n",
    "        \n",
    "        matrix = np.zeros((self.size, self.size), dtype=int) # matrix full of zero\n",
    "        num_values = int(0.2 * self.size * self.size)\n",
    "        indices = np.random.choice(self.size * self.size, num_values, replace=False) # replace zero values by non zero by 20%\n",
    "        values = np.random.randint(1, 31, size=num_values) # generate random non zero\n",
    "        np.put(matrix, indices, values) # put them in matrix\n",
    "        return matrix\n",
    "\n",
    "    def perform_svd_truncate(self, matrix, k, alpha=0.5):\n",
    "    \n",
    "        U, sigma, VT = np.linalg.svd(matrix, full_matrices=False) # singular value decomposition\n",
    "        Sigma = np.diag(sigma[:k]**alpha)  # apply power to Sigma and truncate\n",
    "        U_k = U[:, :k]  # truncate U\n",
    "        E = np.dot(U_k, Sigma) # matrix multiplication\n",
    "        return E\n",
    "\n",
    "#Usage \n",
    "matrix_ops = MatrixOper(size=12)  # random size number\n",
    "X = matrix_ops.generate_matrix()\n",
    "E = matrix_ops.perform_svd_truncate(X, k=3)  # random k dimensions\n",
    "\n",
    "print(\"Original Matrix X:\", X)\n",
    "print(\"Truncated Matrix E:\", E)\n"
   ]
  },
  {
   "cell_type": "code",
   "execution_count": null,
   "id": "90a22ea6",
   "metadata": {},
   "outputs": [],
   "source": []
  }
 ],
 "metadata": {
  "kernelspec": {
   "display_name": "Python 3 (ipykernel)",
   "language": "python",
   "name": "python3"
  },
  "language_info": {
   "codemirror_mode": {
    "name": "ipython",
    "version": 3
   },
   "file_extension": ".py",
   "mimetype": "text/x-python",
   "name": "python",
   "nbconvert_exporter": "python",
   "pygments_lexer": "ipython3",
   "version": "3.9.13"
  }
 },
 "nbformat": 4,
 "nbformat_minor": 5
}
