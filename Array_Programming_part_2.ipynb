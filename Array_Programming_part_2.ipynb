{
 "cells": [
  {
   "cell_type": "code",
   "execution_count": 6,
   "id": "848ed2ce",
   "metadata": {},
   "outputs": [
    {
     "name": "stdout",
     "output_type": "stream",
     "text": [
      "Row sums (sanity check): [1. 1. 1. 1. 1.]\n",
      "Softmax Output P:\n",
      "[[0.40125695 0.06769417 0.53104888]\n",
      " [0.42342034 0.06075429 0.51582538]\n",
      " [0.40527842 0.09092023 0.50380135]\n",
      " [0.31864523 0.09706355 0.58429122]\n",
      " [0.27196917 0.12691473 0.6011161 ]]\n"
     ]
    }
   ],
   "source": [
    "# Implementetion multiple operations on a multi-dimensional array.\n",
    "# Create an array with random integers between 1 and 20 with shape [M,N]\n",
    "# The dimension N is called the sequence length.\n",
    "# Add few zeros in this matrix randomly\n",
    "# Define a matrix of shape [V,D] where V=30 and D=15\n",
    "# The first operation will be to index the embedding matrix in order to get a matrix of shape [M,N,D] \n",
    "# where essentially for each token id in the matrix of integers \n",
    "# we will get the corresponding vector from the embedding matrix.\n",
    "# Apply the following operations: 𝑋𝑎𝑣𝑔=𝐴𝑣𝑒𝑟𝑎𝑔𝑒(𝑋)\n",
    "# On the axis of the sequence length without taking into account any zero vectors in the average. \n",
    "# You will have after this operation a matrix with shape [M,D].\n",
    "# Then, define two weight matrices W and W1 of shapes [D,K] and [K,C] where K=5 and C=3 with seed=1\n",
    "# and uniform distribution and perform the following operations on the second axis: 𝐿=𝑚𝑎𝑥(𝑋𝑎𝑣𝑔∗𝑊,0)∗𝑊1  𝑃=𝑒𝐿/∑𝐶−1𝑘=0*𝑒𝐿𝑘\n",
    "\n",
    "\n",
    "\n",
    "\n",
    "from numpy.random import default_rng\n",
    "import numpy as np\n",
    "\n",
    "rng = default_rng(seed=10)\n",
    "matrix = rng.integers(1, 20, (5, 10))\n",
    "\n",
    "V, D = 20, 15  \n",
    "embedding_matrix = rng.uniform(low=0.0, high=1.0, size=(V + 1, D))\n",
    "\n",
    "X = embedding_matrix[matrix]\n",
    "\n",
    "X_avg = np.mean(X, axis=1)\n",
    "\n",
    "\n",
    "rng = default_rng(seed=1)\n",
    "\n",
    "K, C = 5, 3\n",
    "\n",
    "W = rng.uniform(low=-1.0, high=1.0, size=(D, K))\n",
    "\n",
    "W1 = rng.uniform(low=-1.0, high=1.0, size=(K, C))\n",
    "\n",
    "\n",
    "L = np.dot(X_avg, W)\n",
    "L = np.maximum(L, 0)\n",
    "L = np.dot(L, W1)\n",
    "\n",
    "\n",
    "\n",
    "def softmax(x):\n",
    "    e_x = np.exp(x - np.max(x, axis=1, keepdims=True))\n",
    "    return e_x / e_x.sum(axis=1, keepdims=True)\n",
    "\n",
    "\n",
    "P = softmax(L)\n",
    "\n",
    "row_sums = np.sum(P, axis=1)\n",
    "\n",
    "print(\"Row sums (sanity check):\", row_sums)\n",
    "\n",
    "\n",
    "print(\"Softmax Output P:\")\n",
    "\n",
    "\n",
    "print(P)"
   ]
  },
  {
   "cell_type": "code",
   "execution_count": null,
   "id": "af537b07",
   "metadata": {},
   "outputs": [],
   "source": []
  }
 ],
 "metadata": {
  "kernelspec": {
   "display_name": "Python 3 (ipykernel)",
   "language": "python",
   "name": "python3"
  },
  "language_info": {
   "codemirror_mode": {
    "name": "ipython",
    "version": 3
   },
   "file_extension": ".py",
   "mimetype": "text/x-python",
   "name": "python",
   "nbconvert_exporter": "python",
   "pygments_lexer": "ipython3",
   "version": "3.9.13"
  }
 },
 "nbformat": 4,
 "nbformat_minor": 5
}
