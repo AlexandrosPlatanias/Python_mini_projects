{
 "cells": [
  {
   "cell_type": "code",
   "execution_count": 3,
   "id": "ce1d0d84",
   "metadata": {},
   "outputs": [
    {
     "name": "stdout",
     "output_type": "stream",
     "text": [
      "Cosine similarity matrix:\n",
      "[[1.         0.78020512 0.66978314 0.70389828 0.5802987  0.74693161\n",
      "  0.71729875 0.77981015 0.64654734 0.64176212]\n",
      " [0.78020512 1.         0.7193521  0.75404638 0.68223294 0.72681687\n",
      "  0.70411861 0.7305571  0.65046371 0.71760437]\n",
      " [0.66978314 0.7193521  1.         0.78732179 0.81417936 0.78187317\n",
      "  0.6850402  0.82813974 0.7097482  0.82119807]\n",
      " [0.70389828 0.75404638 0.78732179 1.         0.82563659 0.753725\n",
      "  0.70552374 0.83524446 0.72397631 0.68722349]\n",
      " [0.5802987  0.68223294 0.81417936 0.82563659 1.         0.78612892\n",
      "  0.7512422  0.7675854  0.72372155 0.77776933]\n",
      " [0.74693161 0.72681687 0.78187317 0.753725   0.78612892 1.\n",
      "  0.7607552  0.8032814  0.73045986 0.76385833]\n",
      " [0.71729875 0.70411861 0.6850402  0.70552374 0.7512422  0.7607552\n",
      "  1.         0.71757627 0.74143057 0.74351594]\n",
      " [0.77981015 0.7305571  0.82813974 0.83524446 0.7675854  0.8032814\n",
      "  0.71757627 1.         0.81377353 0.74813252]\n",
      " [0.64654734 0.65046371 0.7097482  0.72397631 0.72372155 0.73045986\n",
      "  0.74143057 0.81377353 1.         0.70346658]\n",
      " [0.64176212 0.71760437 0.82119807 0.68722349 0.77776933 0.76385833\n",
      "  0.74351594 0.74813252 0.70346658 1.        ]]\n"
     ]
    }
   ],
   "source": [
    "# Write a function that takes as argument a 𝑁×𝑀 array where 𝑀>𝑁 (e.g. 𝑀=30 and 𝑁=10) filled with random float values.\n",
    "# The function should return an array of shape 𝑁×𝑁 with the cosine similarities of all the pairwise comparisons of the rows of the input array. \n",
    "# The cosine similarity of two vectors 𝑣1 and 𝑣2 is computed as follows:\n",
    "# 𝑣1∗𝑣2/||𝑣1||∗||𝑣2||\n",
    "# where ||𝑥|| denotes the Euclidean norm or magnitude of the vector.\n",
    "# The function should check whether the diagonal elements of the matrix equal to 1.0 \n",
    "#(the cosine similarity with its self is 1) and whether it is a square matrix that is returned.\n",
    "# Notice: you should implement the function with the basic functions of Numpy and not use the np.cos function\n",
    "\n",
    "\n",
    "import numpy as np\n",
    "\n",
    "def compute_cosine_similarity(matrix):\n",
    "\n",
    "    N, M = matrix.shape\n",
    "    if M <= N:\n",
    "        raise ValueError(\"The number of columns M must be greater than the number of rows N.\")\n",
    "        \n",
    "    row_norms = np.sqrt(np.sum(matrix ** 2, axis=1))\n",
    "    \n",
    "    normalized_matrix = matrix / row_norms[:, None]\n",
    "    \n",
    "    cosine_similarity_matrix = np.dot(normalized_matrix, normalized_matrix.T)\n",
    "    \n",
    "    diagonal_elements = np.diag(cosine_similarity_matrix)\n",
    "    if not np.all(np.abs(diagonal_elements - 1.0) < 1e-6):\n",
    "        raise ValueError(\" Diagonal elements of the cosine similarity matrix are not all 1.0 within tolerance.\")\n",
    "    \n",
    "    if cosine_similarity_matrix.shape[0] != cosine_similarity_matrix.shape[1]:\n",
    "        raise ValueError(\"The resulting matrix is not square.\")\n",
    "    return cosine_similarity_matrix\n",
    "\n",
    "\n",
    "N, M = 10, 30\n",
    "random_matrix = np.random.random((N,M))\n",
    "\n",
    "\n",
    "cosine_matrix = compute_cosine_similarity(random_matrix)\n",
    "print(\"Cosine similarity matrix:\")\n",
    "print(cosine_matrix)"
   ]
  },
  {
   "cell_type": "code",
   "execution_count": null,
   "id": "0cf91242",
   "metadata": {},
   "outputs": [],
   "source": []
  }
 ],
 "metadata": {
  "kernelspec": {
   "display_name": "Python 3 (ipykernel)",
   "language": "python",
   "name": "python3"
  },
  "language_info": {
   "codemirror_mode": {
    "name": "ipython",
    "version": 3
   },
   "file_extension": ".py",
   "mimetype": "text/x-python",
   "name": "python",
   "nbconvert_exporter": "python",
   "pygments_lexer": "ipython3",
   "version": "3.9.13"
  }
 },
 "nbformat": 4,
 "nbformat_minor": 5
}
