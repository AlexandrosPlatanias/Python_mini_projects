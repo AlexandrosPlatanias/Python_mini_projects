{
 "cells": [
  {
   "cell_type": "code",
   "execution_count": 8,
   "id": "9316ec2d",
   "metadata": {},
   "outputs": [
    {
     "name": "stdout",
     "output_type": "stream",
     "text": [
      "Modified List of Lists:\n",
      "[16, 8, 89, 62, 6.0292029106161955, 29, 20.597205338486244, 55.90810157925647, 51.063906622525224, 68.57888874385469]\n",
      "[61, 56, 33.80567492849449, 83.14621534484877, 61.19145366785964, 48.322753633530716, 0, 0, 0, 0]\n",
      "[27, 18, 0, 0, 0, 0, 0, 0, 0, 0]\n",
      "[53, 75, 5, 0, 0, 0, 0, 0, 0, 0]\n",
      "[92, 56.38478412011179, 0, 0, 0, 0, 0, 0, 0, 0]\n"
     ]
    }
   ],
   "source": [
    "#Exercise 1:\n",
    "#Create a list of lists where each list has an arbitrary length (use lengths between 1 and 20).\n",
    "#The values of the lists can be floats or integers and greater than zero.\n",
    "#Truncate the lists that exceed a length of 10.Pad the lists with zeros up to length 10\n",
    "\n",
    "import random\n",
    "\n",
    "def create_mod_list():\n",
    "\n",
    "    list_of_lists = [\n",
    "        [random.choice([random.randint(1, 100), random.uniform(1, 100)]) for _ in range(random.randint(1, 20))]\n",
    "        for _ in range(5)\n",
    "    ]\n",
    "    \n",
    "\n",
    "    for i, lst in enumerate(list_of_lists):\n",
    "        if len(lst) > 10:\n",
    "            list_of_lists[i] = lst[:10] \n",
    "        else:\n",
    "            list_of_lists[i].extend([0] * (10 - len(lst)))\n",
    "\n",
    "    return list_of_lists\n",
    "\n",
    "\n",
    "modified_lists = create_mod_list() \n",
    "print(\"Modified List of Lists:\")\n",
    "for lst in modified_lists:\n",
    "    print(lst)\n"
   ]
  },
  {
   "cell_type": "code",
   "execution_count": 10,
   "id": "22565c3f",
   "metadata": {},
   "outputs": [
    {
     "name": "stdout",
     "output_type": "stream",
     "text": [
      "Sorted List: [(2, 1), (1, 2), (2, 3), (4, 4), (2, 5)]\n"
     ]
    }
   ],
   "source": [
    "#Exercise 2:\n",
    "#Write a function that takes as arguments a list that contain tuples of size 2. \n",
    "#Each tuple should have two integers. Sort the list in increasing order by the last element in each tuple.\n",
    "#Sample List : [(2, 5), (1, 2), (4, 4), (2, 3), (2, 1)] Expected Result : [(2, 1), (1, 2), (2, 3), (4, 4), (2, 5)]\n",
    "\n",
    "\n",
    "def tax_by_last_part(pxlista):\n",
    "    return sorted(pxlista, key=lambda x: x[1])\n",
    "pxlista = [(2, 5), (1, 2), (4, 4), (2, 3), (2, 1)]\n",
    "sorted_list = tax_by_last_part(pxlista)\n",
    "print(\"Sorted List:\", sorted_list)"
   ]
  },
  {
   "cell_type": "code",
   "execution_count": 11,
   "id": "5550d3c5",
   "metadata": {},
   "outputs": [
    {
     "name": "stdout",
     "output_type": "stream",
     "text": [
      "Transposed Matrix:\n",
      "[1, 4, 6]\n",
      "[2, 5, 7]\n",
      "[3, 6, 8]\n"
     ]
    }
   ],
   "source": [
    "#Exercise 3:\n",
    "#Write a function that takes as an argument a square matrix (list of lists) and transposes it. \n",
    "#For example, the following matrix: [[1,2,3],[4,5,6],[6,7,8]] should be transposed to\n",
    "\n",
    " # `[[1, 4, 6],\n",
    "  # [2, 5, 7],\n",
    "#[3, 6, 8]]`\n",
    "\n",
    "def trasposeMatrix(Matrix):\n",
    "    return [[Matrix[j][i] for j in range(len(Matrix))] for i in range(len(Matrix[0]))]\n",
    "    \n",
    "Matrix = [[1,2,3],[4,5,6],[6,7,8]]\n",
    "\n",
    "trasposeMatrix = trasposeMatrix(Matrix)\n",
    "print(\"Transposed Matrix:\")\n",
    "for row in trasposeMatrix:\n",
    "    print(row)"
   ]
  },
  {
   "cell_type": "code",
   "execution_count": 12,
   "id": "3c444e79",
   "metadata": {},
   "outputs": [
    {
     "name": "stdout",
     "output_type": "stream",
     "text": [
      "Reversed Dictionary: {2: 'a', 5: 'c'}\n",
      "Duplicates: [2]\n"
     ]
    }
   ],
   "source": [
    "#Exercise 4:\n",
    "#Write a function that takes two lists as arguments.\n",
    "#It creates a dictionary with the first list as keys and the second list as values. \n",
    "#Then, it reverses the dictionary by creating a new one where values are used as keys and the keys as values.\n",
    "#In case where the key in the reversed dictionary exists the function should add this key in a list of duplicates. \n",
    "#The function should return the reversed dictionary and the duplicate keys.\n",
    "\n",
    "#For example if input is the following: {\"a\":2,\"b\":2,\"c\":5} the result could be a dictionary, {2:\"a\",5:\"c\"} and a list [2].\n",
    "\n",
    "\n",
    "def reverseDictDuplicate(keys, values):\n",
    "  \n",
    "    originalDict = dict(zip(keys, values))\n",
    "    \n",
    "   \n",
    "    reversedDict = {}\n",
    "    duplicates = []\n",
    "    \n",
    "    for key, value in originalDict.items():\n",
    "        if value in reversedDict:\n",
    "\n",
    "            duplicates.append(value)\n",
    "        else:\n",
    "            reversedDict[value] = key\n",
    "            \n",
    "    return reversedDict, duplicates\n",
    "\n",
    "\n",
    "keys = ['a', 'b', 'c']\n",
    "values = [2, 2, 5]\n",
    "\n",
    "\n",
    "reversedDict, duplicates = reverseDictDuplicate(keys, values)\n",
    "print(\"Reversed Dictionary:\", reversedDict)\n",
    "print(\"Duplicates:\", duplicates)\n"
   ]
  },
  {
   "cell_type": "code",
   "execution_count": null,
   "id": "c7001ae3",
   "metadata": {},
   "outputs": [],
   "source": []
  }
 ],
 "metadata": {
  "kernelspec": {
   "display_name": "Python 3 (ipykernel)",
   "language": "python",
   "name": "python3"
  },
  "language_info": {
   "codemirror_mode": {
    "name": "ipython",
    "version": 3
   },
   "file_extension": ".py",
   "mimetype": "text/x-python",
   "name": "python",
   "nbconvert_exporter": "python",
   "pygments_lexer": "ipython3",
   "version": "3.9.13"
  }
 },
 "nbformat": 4,
 "nbformat_minor": 5
}
