{
 "cells": [
  {
   "cell_type": "code",
   "execution_count": 1,
   "id": "4e476c42",
   "metadata": {},
   "outputs": [
    {
     "name": "stdout",
     "output_type": "stream",
     "text": [
      "The sum of the list is: 16.5 \n"
     ]
    }
   ],
   "source": [
    "# Exercise 1: Write a function that takes as argument a list of floats and calculates the sum of the numbers\n",
    "# in the list by just using basic operations. \n",
    "# The function should return a float or null in case the list is empty.\n",
    "\n",
    "some_numbers= [1.1, 2.2, 3.3, 4.4, 5.5] \n",
    "sunolo = sum(some_numbers) \n",
    "print(\"The sum of the list is: {} \".format(sunolo))"
   ]
  },
  {
   "cell_type": "code",
   "execution_count": 2,
   "id": "2b52d1de",
   "metadata": {},
   "outputs": [
    {
     "name": "stdout",
     "output_type": "stream",
     "text": [
      "The sum of the list is: 0 \n"
     ]
    }
   ],
   "source": [
    "# Exercise 1: Write a function that takes as argument a list of floats and calculates the sum of the numbers\n",
    "# in the list by just using basic operations. \n",
    "# The function should return a float or null in case the list is empty.\n",
    "\n",
    "some_numbers= [] \n",
    "sunolo = sum(some_numbers) \n",
    "print(\"The sum of the list is: {} \".format(sunolo))"
   ]
  },
  {
   "cell_type": "code",
   "execution_count": 3,
   "id": "199008f3",
   "metadata": {},
   "outputs": [
    {
     "name": "stdout",
     "output_type": "stream",
     "text": [
      "True\n"
     ]
    }
   ],
   "source": [
    "# Exercise 2: Palindromes are sequences of characters that read the same forward and backward. \n",
    "# Write a function that takes a string as an argument and returns a boolean flag that is true\n",
    "# if the string is a palindrome and false otherwise.\n",
    "\n",
    "def palindrome(anna):\n",
    "    return anna == anna[::-1]\n",
    "print(palindrome(\"anna\")) "
   ]
  },
  {
   "cell_type": "code",
   "execution_count": 4,
   "id": "1c55021c",
   "metadata": {},
   "outputs": [
    {
     "name": "stdout",
     "output_type": "stream",
     "text": [
      "False\n"
     ]
    }
   ],
   "source": [
    "# Exercise 2: Palindromes are sequences of characters that read the same forward and backward. \n",
    "# Write a function that takes a string as an argument and returns a boolean flag that is true\n",
    "# if the string is a palindrome and false otherwise.\n",
    "\n",
    "def not_palindrome(Platanias):\n",
    "    return Platanias == Platanias[::-1]\n",
    "print(not_palindrome(\"Platanias\")) "
   ]
  },
  {
   "cell_type": "code",
   "execution_count": null,
   "id": "f23d0fcb",
   "metadata": {},
   "outputs": [],
   "source": [
    "|"
   ]
  }
 ],
 "metadata": {
  "kernelspec": {
   "display_name": "Python 3 (ipykernel)",
   "language": "python",
   "name": "python3"
  },
  "language_info": {
   "codemirror_mode": {
    "name": "ipython",
    "version": 3
   },
   "file_extension": ".py",
   "mimetype": "text/x-python",
   "name": "python",
   "nbconvert_exporter": "python",
   "pygments_lexer": "ipython3",
   "version": "3.9.13"
  }
 },
 "nbformat": 4,
 "nbformat_minor": 5
}
